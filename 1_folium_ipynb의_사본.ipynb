{
  "cells": [
    {
      "cell_type": "markdown",
      "metadata": {
        "id": "view-in-github",
        "colab_type": "text"
      },
      "source": [
        "<a href=\"https://colab.research.google.com/github/smj-lab2023/test/blob/main/1_folium_ipynb%EC%9D%98_%EC%82%AC%EB%B3%B8.ipynb\" target=\"_parent\"><img src=\"https://colab.research.google.com/assets/colab-badge.svg\" alt=\"Open In Colab\"/></a>"
      ]
    },
    {
      "cell_type": "markdown",
      "id": "0fd2f7ae",
      "metadata": {
        "id": "0fd2f7ae"
      },
      "source": [
        "## 한글 폰트 설치\n",
        "\n",
        "- 참고: https://teddylee777.github.io/colab/colab-korean"
      ]
    },
    {
      "cell_type": "code",
      "execution_count": null,
      "id": "38cd3dad",
      "metadata": {
        "id": "38cd3dad",
        "scrolled": true
      },
      "outputs": [],
      "source": [
        "# 구글 colab 사용자용\n",
        "!sudo apt-get install -y fonts-nanum\n",
        "!sudo fc-cache -fv\n",
        "!rm ~/.cache/matplotlib -rf"
      ]
    },
    {
      "cell_type": "markdown",
      "id": "bea9bd93",
      "metadata": {
        "id": "bea9bd93"
      },
      "source": [
        "## folium 개요"
      ]
    },
    {
      "cell_type": "markdown",
      "id": "0e0ab9eb",
      "metadata": {
        "id": "0e0ab9eb"
      },
      "source": [
        "folium은 `leaflet.js` 자바 스크립트 기반으로 만들어진 인터렉티브한 Python 지도 시각화 라이브러리 입니다.\n",
        "\n",
        "[관련 문서(Doc) 링크](https://python-visualization.github.io/folium/)\n",
        "\n",
        "folium을 사용하여 인터랙티브한 지도를 생성하고 **마커를 추가**하여 시각화하거나 **원으로 범위를 표기**하고 `html` 파일로 내보내기 등을 수행할 수 있습니다."
      ]
    },
    {
      "cell_type": "markdown",
      "id": "acdfbc37",
      "metadata": {
        "id": "acdfbc37"
      },
      "source": [
        "## folium 설치"
      ]
    },
    {
      "cell_type": "markdown",
      "id": "30eb9962",
      "metadata": {
        "id": "30eb9962"
      },
      "source": [
        "`pip install folium`으로 라이브러리를 설치할 수 있습니다.\n",
        "###### 아나콘다 환경설정하면서 미리 설치함"
      ]
    },
    {
      "cell_type": "code",
      "execution_count": null,
      "id": "1c7af5c8",
      "metadata": {
        "id": "1c7af5c8"
      },
      "outputs": [],
      "source": [
        "# !pip install folium"
      ]
    },
    {
      "cell_type": "markdown",
      "id": "564065e1",
      "metadata": {
        "id": "564065e1"
      },
      "source": [
        "지도 시각화 라이브러리 import "
      ]
    },
    {
      "cell_type": "code",
      "execution_count": null,
      "id": "70f6bd45",
      "metadata": {
        "id": "70f6bd45"
      },
      "outputs": [],
      "source": [
        "import folium"
      ]
    },
    {
      "cell_type": "code",
      "execution_count": null,
      "id": "d8afe71f",
      "metadata": {
        "id": "d8afe71f"
      },
      "outputs": [],
      "source": [
        "# 경고 표시하지않기\n",
        "\n",
        "import warnings\n",
        "\n",
        "warnings.filterwarnings(action='ignore')"
      ]
    },
    {
      "cell_type": "markdown",
      "id": "8a1ccbca",
      "metadata": {
        "id": "8a1ccbca"
      },
      "source": [
        "## 기본 좌표 설정(초기위치 설정하기)"
      ]
    },
    {
      "cell_type": "markdown",
      "id": "1a87a5e3",
      "metadata": {
        "id": "1a87a5e3"
      },
      "source": [
        "`location`에 위도, 경도 정보를 입력하여 입력한 **위,경도 좌표**를 기준으로 지도를 그릴 수 있습니다.\n",
        "\n",
        "이때 `zoom_start` 정보를 지정하여 **확대**의 정도를 지정할 수 있습니다.\n",
        "\n",
        "- 참고: `zoom_start`의 범위는 **최대 18** 입니다."
      ]
    },
    {
      "cell_type": "markdown",
      "id": "e7w89C2dyv5P",
      "metadata": {
        "id": "e7w89C2dyv5P"
      },
      "source": [
        "### 구글 지도 실행후 검색위치 위경도 좌표 가져오기\n",
        "### https://www.google.co.kr/maps/\n",
        "### 구글맵에서 위치 검색후 마우스 우클릭후 주변검색 메뉴 선택으로 위, 경도좌표 가져오기"
      ]
    },
    {
      "cell_type": "code",
      "execution_count": null,
      "id": "65e2d624",
      "metadata": {
        "id": "65e2d624"
      },
      "outputs": [],
      "source": [
        "# 위도\n",
        "latitude = 37.5159\n",
        "\n",
        "# 경도\n",
        "longitude = 127.0349"
      ]
    },
    {
      "cell_type": "code",
      "execution_count": null,
      "id": "9ad8f3eb",
      "metadata": {
        "id": "9ad8f3eb",
        "scrolled": true
      },
      "outputs": [],
      "source": [
        "# 코드입력\n",
        "m = folium.Map(location=[latitude, longitude],\n",
        "               zoom_start=17, \n",
        "               width=750, \n",
        "               height=500\n",
        "              )\n",
        "m"
      ]
    },
    {
      "cell_type": "markdown",
      "id": "7126f2fb",
      "metadata": {
        "id": "7126f2fb"
      },
      "source": [
        "## 마커 추가\n",
        "\n",
        "- `location`: 마커를 추가할 **위도/경도 좌표**를 입력 후 \n",
        "- `popup`: 표기할 팝업 문구 지정 (마우스 클릭시 표기되는 문구)\n",
        "- `tooltip`: 표기할 툴팁 지정 (마우스 오버시 표기되는 문구)\n",
        "\n",
        "마커를 생성 후 기존에 생성된 지도 `m`에 추가합니다."
      ]
    },
    {
      "cell_type": "code",
      "execution_count": null,
      "id": "4d582a77",
      "metadata": {
        "id": "4d582a77"
      },
      "outputs": [],
      "source": [
        "# 코드입력\n",
        "folium.Marker([latitude, longitude],\n",
        "              popup=\"공간정보아카데미\",\n",
        "              tooltip=\"공간정보아카데미 입구\").add_to(m)\n",
        "m"
      ]
    },
    {
      "cell_type": "markdown",
      "id": "d98442ba",
      "metadata": {
        "id": "d98442ba"
      },
      "source": [
        "마커에 대한 스타일 변경도 가능합니다. 스타일 변경시 `icon` 파라미터에 `folium.Icon(color=?, icon=?)`을 지정합니다."
      ]
    },
    {
      "cell_type": "code",
      "execution_count": null,
      "id": "81dbe151",
      "metadata": {
        "id": "81dbe151",
        "scrolled": true
      },
      "outputs": [],
      "source": [
        "# 코드입력\n",
        "folium.Marker([latitude, longitude],\n",
        "              popup=\"공간정보아카데미\",\n",
        "              tooltip=\"공간정보아카데미 입구\", \n",
        "              icon=folium.Icon('red', icon='star'),\n",
        "             ).add_to(m)\n",
        "m"
      ]
    },
    {
      "cell_type": "markdown",
      "id": "923b882b",
      "metadata": {
        "id": "923b882b"
      },
      "source": [
        "1.   `popup`이나 `tooltip`에 다음과 같이 `html 코드`를 삽입하여 이미지를 표기하거나 YouTube 영상도 삽입할 수 있습니다.\n",
        "2.   YouTube에서 해당 동영상 > 공유 > 퍼가기 > 복사순으로 iframe link 가져오기\n",
        "\n",
        "\n"
      ]
    },
    {
      "cell_type": "code",
      "execution_count": null,
      "id": "3cdcd203",
      "metadata": {
        "id": "3cdcd203",
        "scrolled": true
      },
      "outputs": [],
      "source": [
        "folium.Marker([latitude, longitude],\n",
        "              popup='<iframe width=\"560\" height=\"315\" src=\"https://www.youtube.com/embed/YHBX1ESeTKI\" title=\"YouTube video player\" frameborder=\"0\" allow=\"accelerometer; autoplay; clipboard-write; encrypted-media; gyroscope; picture-in-picture; web-share\" allowfullscreen></iframe>',\n",
        "              tooltip=\"공간정보아카데미 입구\").add_to(m)\n",
        "m"
      ]
    },
    {
      "cell_type": "code",
      "execution_count": null,
      "id": "93bcf42a",
      "metadata": {
        "id": "93bcf42a"
      },
      "outputs": [],
      "source": [
        "folium.CircleMarker([latitude, longitude],\n",
        "                    color='tomato',\n",
        "                    radius = 150, \n",
        "                    tooltip='학동역 상권').add_to(m)\n",
        "m"
      ]
    },
    {
      "cell_type": "markdown",
      "id": "708136b8",
      "metadata": {
        "id": "708136b8"
      },
      "source": [
        "## 실습에 필요한 데이터셋"
      ]
    },
    {
      "cell_type": "markdown",
      "id": "35dea681",
      "metadata": {
        "id": "35dea681"
      },
      "source": [
        "[소상공인 시장 진흥공단 상권정보](https://www.data.go.kr/tcs/dss/selectFileDataDetailView.do?publicDataPk=15083033)"
      ]
    },
    {
      "cell_type": "code",
      "execution_count": null,
      "id": "8ce6ce33",
      "metadata": {
        "id": "8ce6ce33"
      },
      "outputs": [],
      "source": [
        "# !pip install teddynote -q"
      ]
    },
    {
      "cell_type": "code",
      "execution_count": null,
      "id": "27eabe78",
      "metadata": {
        "id": "27eabe78"
      },
      "outputs": [],
      "source": [
        "# from teddynote import dataset\n",
        "\n",
        "# dataset.download('소상공인상권정보')"
      ]
    },
    {
      "cell_type": "code",
      "execution_count": null,
      "id": "4201c578",
      "metadata": {
        "id": "4201c578"
      },
      "outputs": [],
      "source": [
        "import pandas as pd\n",
        "\n",
        "# 코드입력\n",
        "df = pd.read_csv('./data/상권정보_서울.csv')\n",
        "df.head(3)"
      ]
    },
    {
      "cell_type": "markdown",
      "id": "6b379684",
      "metadata": {
        "id": "6b379684"
      },
      "source": [
        "컬럼 정보를 출력 합니다."
      ]
    },
    {
      "cell_type": "code",
      "execution_count": null,
      "id": "15515563",
      "metadata": {
        "id": "15515563"
      },
      "outputs": [],
      "source": [
        "pd.Series(df.columns)"
      ]
    },
    {
      "cell_type": "markdown",
      "id": "e4b0008a",
      "metadata": {
        "id": "e4b0008a"
      },
      "source": [
        "법정동명이 `학동`, `논현동`, `역삼동` 인 지역만 불러옵니다"
      ]
    },
    {
      "cell_type": "code",
      "execution_count": null,
      "id": "bf3fb49b",
      "metadata": {
        "id": "bf3fb49b"
      },
      "outputs": [],
      "source": [
        "sub_df = df.loc[df['법정동명'].isin(['삼성동', '논현동', '역삼동'])]\n",
        "sub_df.tail(3)"
      ]
    },
    {
      "cell_type": "code",
      "execution_count": null,
      "id": "325cd4f7",
      "metadata": {
        "id": "325cd4f7"
      },
      "outputs": [],
      "source": [
        "sub_df[['위도', '경도', '상호명']]"
      ]
    },
    {
      "cell_type": "markdown",
      "id": "07f2d881",
      "metadata": {
        "id": "07f2d881"
      },
      "source": [
        "## 클러스터 생성"
      ]
    },
    {
      "cell_type": "code",
      "execution_count": null,
      "id": "c6f0fa77",
      "metadata": {
        "id": "c6f0fa77"
      },
      "outputs": [],
      "source": [
        "from folium.plugins import MarkerCluster\n",
        "\n",
        "m = folium.Map(\n",
        "    location=[latitude, longitude],\n",
        "    zoom_start=15\n",
        ")\n",
        "\n",
        "coords = sub_df[['위도', '경도']]"
      ]
    },
    {
      "cell_type": "code",
      "execution_count": null,
      "id": "67f5a36d",
      "metadata": {
        "id": "67f5a36d"
      },
      "outputs": [],
      "source": [
        "# 코드입력\n",
        "marker_cluster = MarkerCluster().add_to(m)\n",
        "\n",
        "for lat, long in zip(coords['위도'], coords['경도']):\n",
        "    folium.Marker([lat, long], icon = folium.Icon(color=\"green\")).add_to(marker_cluster)\n",
        "m"
      ]
    },
    {
      "cell_type": "markdown",
      "id": "53e454dd",
      "metadata": {
        "id": "53e454dd"
      },
      "source": [
        "## 서울 지도에서 행정 구역별 표시"
      ]
    },
    {
      "cell_type": "code",
      "execution_count": null,
      "id": "d4a9292d",
      "metadata": {
        "id": "d4a9292d",
        "scrolled": true
      },
      "outputs": [],
      "source": [
        "import requests\n",
        "import json\n",
        "\n",
        "# 서울 행정구역 json raw파일(githubcontent)\n",
        "r = requests.get('https://raw.githubusercontent.com/southkorea/seoul-maps/master/kostat/2013/json/seoul_municipalities_geo_simple.json')\n",
        "c = r.content\n",
        "seoul_geo = json.loads(c)\n",
        "seoul_geo"
      ]
    },
    {
      "cell_type": "markdown",
      "id": "d4645ff5",
      "metadata": {
        "id": "d4645ff5"
      },
      "source": [
        "서울 지역의 구별 boundary 시각화"
      ]
    },
    {
      "cell_type": "code",
      "execution_count": null,
      "id": "cbfc6b5b",
      "metadata": {
        "id": "cbfc6b5b",
        "scrolled": false
      },
      "outputs": [],
      "source": [
        "m = folium.Map(\n",
        "    location=[37.559819, 126.963895],\n",
        "    zoom_start=11, \n",
        ")\n",
        "\n",
        "# 코드입력\n",
        "folium.GeoJson(\n",
        "    seoul_geo,\n",
        "    name='지역구'\n",
        ").add_to(m)\n",
        "\n",
        "m"
      ]
    },
    {
      "cell_type": "markdown",
      "id": "11f27abe",
      "metadata": {
        "id": "11f27abe"
      },
      "source": [
        "## tiles 옵션 변경을 통해 지도의 테마 변경\n",
        "\n",
        "지도의 기본 테마(tiles)는 `OpenStreetMap`으로 설정되어 있는데, 이를 변경하여 다른 지도 테마를 적용할 수 있다."
      ]
    },
    {
      "cell_type": "markdown",
      "id": "aad83762",
      "metadata": {
        "id": "aad83762"
      },
      "source": [
        "### `Stamen Toner` 적용시"
      ]
    },
    {
      "cell_type": "code",
      "execution_count": null,
      "id": "4bec51d0",
      "metadata": {
        "id": "4bec51d0"
      },
      "outputs": [],
      "source": [
        "m = folium.Map(\n",
        "    location=[37.559819, 126.963895],\n",
        "    zoom_start=11, \n",
        "    # 타일변경\n",
        "    tiles='Stamen Toner'\n",
        ")\n",
        "\n",
        "folium.GeoJson(\n",
        "    seoul_geo,\n",
        "    name='지역구'\n",
        ").add_to(m)\n",
        "\n",
        "m"
      ]
    },
    {
      "cell_type": "markdown",
      "id": "828df163",
      "metadata": {
        "id": "828df163"
      },
      "source": [
        "### `cartodbpositron` 적용시"
      ]
    },
    {
      "cell_type": "code",
      "execution_count": null,
      "id": "fccc7905",
      "metadata": {
        "id": "fccc7905"
      },
      "outputs": [],
      "source": [
        "m = folium.Map(\n",
        "    location=[37.559819, 126.963895],\n",
        "    zoom_start=11, \n",
        "    # 타일변경\n",
        "    tiles='cartodbpositron'\n",
        ")\n",
        "\n",
        "folium.GeoJson(\n",
        "    seoul_geo,\n",
        "    name='지역구'\n",
        ").add_to(m)\n",
        "\n",
        "m"
      ]
    },
    {
      "cell_type": "markdown",
      "id": "1b3ef9ff",
      "metadata": {
        "id": "1b3ef9ff"
      },
      "source": [
        "## 서울시 자치구별 상권정보 시각화\n",
        "\n",
        "- [소상공인시장진흥공단 상권 정보 데이터셋 다운로드](https://www.data.go.kr/data/15083033/fileData.do)"
      ]
    },
    {
      "cell_type": "markdown",
      "id": "a2269e6d",
      "metadata": {
        "id": "a2269e6d"
      },
      "source": [
        "`seoul` 데이터프레임에 소상공인시장진흥공단에서 제공하는 **서울시 상권정보 csv 파일**을 로드합니다. "
      ]
    },
    {
      "cell_type": "code",
      "execution_count": null,
      "id": "ad96a8b5",
      "metadata": {
        "id": "ad96a8b5"
      },
      "outputs": [],
      "source": [
        "import pandas as pd\n",
        "\n",
        "# 서울 상권정보 데이터를 로드합니다\n",
        "seoul = pd.read_csv('./data/상권정보_서울.csv')\n",
        "\n",
        "# 필요한 컬럼 정보만 가져옵니다\n",
        "seoul = seoul[['시군구명', '상권업종대분류명', '상권업종중분류명', '위도', '경도']]\n",
        "seoul"
      ]
    },
    {
      "cell_type": "markdown",
      "id": "d607a2b0",
      "metadata": {
        "id": "d607a2b0"
      },
      "source": [
        "시각화 모듈을 import 하고 **서울시의 업종별 개수**를 시각화합니다."
      ]
    },
    {
      "cell_type": "code",
      "execution_count": null,
      "id": "22dc6081",
      "metadata": {
        "id": "22dc6081"
      },
      "outputs": [],
      "source": [
        "import matplotlib.pyplot as plt\n",
        "import seaborn as sns\n",
        "\n",
        "# 한글 폰트 설정\n",
        "# plt.rcParams['font.family'] = 'NanumGothic'\n",
        "plt.rcParams['font.family'] = 'Malgun Gothic'"
      ]
    },
    {
      "cell_type": "markdown",
      "id": "89f3d815",
      "metadata": {
        "id": "89f3d815"
      },
      "source": [
        "서울시의 `상권업종중분류명`에 따른 데이터 개수를 시각화 합니다."
      ]
    },
    {
      "cell_type": "code",
      "execution_count": null,
      "id": "81b6ace0",
      "metadata": {
        "id": "81b6ace0"
      },
      "outputs": [],
      "source": [
        "# 코드입력\n",
        "plt.figure(figsize=(12, 30))\n",
        "sns.countplot(y=seoul['상권업종중분류명'], order=seoul['상권업종중분류명'].value_counts().index)\n",
        "plt.yticks(fontsize=12)\n",
        "plt.title('서울시 업종별 개수')\n",
        "plt.show()"
      ]
    },
    {
      "cell_type": "markdown",
      "id": "0cfd314b",
      "metadata": {
        "id": "0cfd314b"
      },
      "source": [
        "**한식 업종이 가장 많은 개수**를 차지합니다. 커피점/카페 업종이 가장 많은 업종일 줄 알았는데요. 한식, 이미용/건강, 종합소매업 다음 4위를 차지하였습니다."
      ]
    },
    {
      "cell_type": "markdown",
      "id": "9ba248e3",
      "metadata": {
        "id": "9ba248e3"
      },
      "source": [
        "그럼 **커피점/카페** 업종은 자치구별로 **어느 곳에 가장 많이 분포**해 있는지 시각화해 보겠습니다."
      ]
    },
    {
      "cell_type": "code",
      "execution_count": null,
      "id": "13f2c178",
      "metadata": {
        "id": "13f2c178"
      },
      "outputs": [],
      "source": [
        "# 코드입력\n",
        "plt.figure(figsize=(12, 10))\n",
        "seoul.loc[seoul['상권업종중분류명'] == '커피점/카페'].groupby('시군구명')['상권업종대분류명'].count()\\\n",
        "                                                     .sort_values().plot(kind='barh', color='royalblue')\n",
        "plt.yticks(fontsize=12)\n",
        "plt.title('서울시 자치구별 커피점/카페 업종수')\n",
        "plt.show()"
      ]
    },
    {
      "cell_type": "markdown",
      "id": "9957a9db",
      "metadata": {
        "id": "9957a9db"
      },
      "source": [
        "강남구가 가장 많은 수를 차지하고 강북구는 가장 적은 수를 차지하였습니다.\n",
        "\n",
        "이제 이를 folium 위에 시각화를 해보겠습니다."
      ]
    },
    {
      "cell_type": "code",
      "execution_count": null,
      "id": "0ccc06c0",
      "metadata": {
        "id": "0ccc06c0"
      },
      "outputs": [],
      "source": [
        "seoul_coffee = seoul.loc[seoul['상권업종중분류명'] == '커피점/카페']\n",
        "seoul_coffee"
      ]
    },
    {
      "cell_type": "code",
      "execution_count": null,
      "id": "b2f904c2",
      "metadata": {
        "id": "b2f904c2"
      },
      "outputs": [],
      "source": [
        "m = folium.Map(\n",
        "    location=[37.559819, 126.963895],\n",
        "    zoom_start=12, \n",
        "    tiles='cartodbpositron'\n",
        ")\n",
        "\n",
        "folium.GeoJson(\n",
        "    seoul_geo,\n",
        "    name='지역구'\n",
        ").add_to(m)"
      ]
    },
    {
      "cell_type": "markdown",
      "id": "4d0636a9",
      "metadata": {
        "id": "4d0636a9"
      },
      "source": [
        "클러스터를 추가하여 지도위에 시각화 합니다."
      ]
    },
    {
      "cell_type": "code",
      "execution_count": null,
      "id": "87d7494b",
      "metadata": {
        "id": "87d7494b"
      },
      "outputs": [],
      "source": [
        "# 코드입력\n",
        "marker_cluster = MarkerCluster().add_to(m)\n",
        "\n",
        "for lat, long in zip(seoul_coffee['위도'], seoul_coffee['경도']):\n",
        "    folium.Marker([lat, long], icon = folium.Icon(color=\"green\")).add_to(marker_cluster)\n",
        "\n",
        "m"
      ]
    },
    {
      "cell_type": "code",
      "execution_count": null,
      "id": "11966dac",
      "metadata": {
        "id": "11966dac"
      },
      "outputs": [],
      "source": [
        "seoul_group_data = seoul.loc[seoul['상권업종중분류명'] == '커피점/카페'].groupby('시군구명')['상권업종중분류명'].count()\n",
        "seoul_group_data"
      ]
    },
    {
      "cell_type": "markdown",
      "id": "e18b744d",
      "metadata": {
        "id": "e18b744d"
      },
      "source": [
        "`choropleth` 를 사용하여 시각화를 하면 업종 별 개수에 따른 색상의 차이를 두어 시각화를 해줍니다."
      ]
    },
    {
      "cell_type": "code",
      "execution_count": null,
      "id": "20e80fdc",
      "metadata": {
        "id": "20e80fdc"
      },
      "outputs": [],
      "source": [
        "m = folium.Map(\n",
        "    location=[37.559819, 126.963895],\n",
        "    zoom_start=11, \n",
        "    tiles='cartodbpositron'\n",
        ")\n",
        "\n",
        "folium.GeoJson(\n",
        "    seoul_geo,\n",
        "    name='지역구'\n",
        ").add_to(m)"
      ]
    },
    {
      "cell_type": "code",
      "execution_count": null,
      "id": "3d767bdd",
      "metadata": {
        "id": "3d767bdd"
      },
      "outputs": [],
      "source": [
        "# 코드입력\n",
        "m.choropleth(geo_data=seoul_geo,\n",
        "             data=seoul_group_data, \n",
        "             fill_color='YlOrRd', # 색상 변경도 가능하다\n",
        "             fill_opacity=0.5,\n",
        "             line_opacity=0.2,\n",
        "             key_on='properties.name',\n",
        "             legend_name=\"지역구별 커피 업종 수\"\n",
        "            )\n",
        "m"
      ]
    },
    {
      "cell_type": "markdown",
      "id": "d32b9da3",
      "metadata": {
        "id": "d32b9da3"
      },
      "source": [
        "`bins`를 만들어 **1/4, 2/4, 3/4분위수별**로 구간을 나누어 시각화할 수 있습니다."
      ]
    },
    {
      "cell_type": "code",
      "execution_count": null,
      "id": "17ff1d4f",
      "metadata": {
        "id": "17ff1d4f"
      },
      "outputs": [],
      "source": [
        "# 코드입력\n",
        "bins = list(seoul_group_data.quantile([0, 0.25, 0.5, 0.75, 1]))\n",
        "\n",
        "m = folium.Map(\n",
        "    location=[37.559819, 126.963895],\n",
        "    zoom_start=11, \n",
        "    tiles='cartodbpositron'\n",
        ")\n",
        "\n",
        "folium.GeoJson(\n",
        "    seoul_geo,\n",
        "    name='지역구'\n",
        ").add_to(m)\n",
        "\n",
        "m.choropleth(geo_data=seoul_geo,\n",
        "             data=seoul_group_data, \n",
        "             fill_color='YlOrRd', # 색상 변경도 가능하다\n",
        "             fill_opacity=0.5,\n",
        "             line_opacity=0.2,\n",
        "             key_on='properties.name',\n",
        "             legend_name=\"지역구별 커피 업종 수\", \n",
        "             bins=bins\n",
        "            )\n",
        "m"
      ]
    },
    {
      "cell_type": "markdown",
      "id": "02a03123",
      "metadata": {
        "id": "02a03123"
      },
      "source": [
        "## Html 파일로 저장"
      ]
    },
    {
      "cell_type": "markdown",
      "id": "77af366e",
      "metadata": {
        "id": "77af366e"
      },
      "source": [
        "저장은 `save()` 함수로 쉽게 html 파일로 저장할 수 있습니다."
      ]
    },
    {
      "cell_type": "code",
      "execution_count": null,
      "id": "iuMkGWmo-UrC",
      "metadata": {
        "id": "iuMkGWmo-UrC"
      },
      "outputs": [],
      "source": [
        "# 구글 colab 사용자\n",
        "from google.colab import drive\n",
        "drive.mount('/content/drive')"
      ]
    },
    {
      "cell_type": "code",
      "execution_count": null,
      "id": "01bb7f64",
      "metadata": {
        "id": "01bb7f64"
      },
      "outputs": [],
      "source": [
        "m.save('map.html')"
      ]
    },
    {
      "cell_type": "markdown",
      "id": "25eba3cc",
      "metadata": {
        "id": "25eba3cc"
      },
      "source": [
        "## 참고 (References)\n",
        "\n",
        "- [Folium 0.12.1 documentation](https://python-visualization.github.io/folium/)\n",
        "- [folium을 이용하여 서울시 동별 인구 수 시각화하기](https://d-hyeon.tistory.com/2)\n",
        "- [지도 핸들링_folium](https://m.blog.naver.com/PostView.naver?isHttpsRedirect=true&blogId=jymoon1115&logNo=221392797679)"
      ]
    }
  ],
  "metadata": {
    "colab": {
      "provenance": [],
      "include_colab_link": true
    },
    "kernelspec": {
      "display_name": "Python 3 (ipykernel)",
      "language": "python",
      "name": "python3"
    },
    "language_info": {
      "codemirror_mode": {
        "name": "ipython",
        "version": 3
      },
      "file_extension": ".py",
      "mimetype": "text/x-python",
      "name": "python",
      "nbconvert_exporter": "python",
      "pygments_lexer": "ipython3",
      "version": "3.10.9"
    }
  },
  "nbformat": 4,
  "nbformat_minor": 5
}